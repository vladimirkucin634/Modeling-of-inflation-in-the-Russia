{
 "cells": [
  {
   "cell_type": "code",
   "execution_count": 1,
   "id": "1afbb19f",
   "metadata": {},
   "outputs": [],
   "source": [
    "# Загрузка библиотек\n",
    "import pandas as pd\n",
    "import matplotlib.pyplot as plt\n",
    "import numpy as np\n",
    "import statsmodels.api as sm \n",
    "from scipy.stats import *\n",
    "from patsy import dmatrices\n",
    "from statsmodels.stats.outliers_influence import variance_inflation_factor\n",
    "from statsmodels.stats.stattools import durbin_watson"
   ]
  },
  {
   "cell_type": "markdown",
   "id": "21b32009",
   "metadata": {},
   "source": [
    "## Загрузка данных"
   ]
  },
  {
   "cell_type": "markdown",
   "id": "97456a7e",
   "metadata": {},
   "source": [
    "Выберем период исследования с января 2020 года по декабрь 2021 года.\\\n",
    "Для построения моделей нужны ежемесячно зафиксированные значения:\n",
    "1. Инфляции, источник: [ЦБ РФ](https://www.cbr.ru/hd_base/infl/).\n",
    "2. Денежной базы, источник: [ЦБ РФ](https://www.cbr.ru/hd_base/mb_nd/mb_nd_month/?UniDbQuery.Posted=True&UniDbQuery.From=01.2014&UniDbQuery.To=01.2023).\n",
    "3. Среднего номинального курса доллара, источник: [ЕМИСС](https://www.fedstat.ru/indicator/42108).\n",
    "4. Ключевой ставки, источник: [ЦБ РФ](https://www.cbr.ru/hd_base/infl/)."
   ]
  },
  {
   "cell_type": "code",
   "execution_count": 2,
   "id": "bb39ddc6",
   "metadata": {},
   "outputs": [],
   "source": [
    "# Загрузка значений денежной массы:\n",
    "url = 'https://www.cbr.ru/hd_base/mb_nd/mb_nd_month/?UniDbQuery.Posted=True&UniDbQuery.From=01.2014&UniDbQuery.To=12.2021'\n",
    "\n",
    "money_supply = pd.read_html(io=url)[0][['Денежная база']].loc[::-1].reset_index(drop=True)\n",
    "money_supply.columns = ['Денежная база']\n",
    "money_supply['Денежная база'] = pd.to_numeric(\n",
    "    money_supply['Денежная база'].str.replace(' ', '').str.replace(',', '.'))"
   ]
  },
  {
   "cell_type": "code",
   "execution_count": 3,
   "id": "20c792fc",
   "metadata": {},
   "outputs": [],
   "source": [
    "# Загрузка значений инфляции и ключевой ставки:\n",
    "file_name = 'Инфляция и ключевая ставка 01_01_2014__01_12_2021.xlsx'\n",
    "\n",
    "infl_perc = pd.read_excel(file_name)[\n",
    "    ['Дата', 'Ключевая ставка, % годовых', 'Инфляция, % г/г']\n",
    "].loc[::-1].reset_index(drop=True)"
   ]
  },
  {
   "cell_type": "code",
   "execution_count": 4,
   "id": "ad2b9e5b",
   "metadata": {},
   "outputs": [],
   "source": [
    "# Загрузка значений среднего номинального курса доллара:\n",
    "exchange = pd.read_excel(\n",
    "    'Средний номинальный курс доллара 01_01_2014__01_12_2021.xls', \n",
    "    sheet_name='Данные', \n",
    "    skiprows=2,\n",
    "    nrows=96)[['Доллар США по отношению к рублю']]"
   ]
  },
  {
   "cell_type": "code",
   "execution_count": 5,
   "id": "ece89121",
   "metadata": {},
   "outputs": [
    {
     "data": {
      "text/html": [
       "<div>\n",
       "<style scoped>\n",
       "    .dataframe tbody tr th:only-of-type {\n",
       "        vertical-align: middle;\n",
       "    }\n",
       "\n",
       "    .dataframe tbody tr th {\n",
       "        vertical-align: top;\n",
       "    }\n",
       "\n",
       "    .dataframe thead th {\n",
       "        text-align: right;\n",
       "    }\n",
       "</style>\n",
       "<table border=\"1\" class=\"dataframe\">\n",
       "  <thead>\n",
       "    <tr style=\"text-align: right;\">\n",
       "      <th></th>\n",
       "      <th>Дата</th>\n",
       "      <th>Ключевая ставка, % годовых</th>\n",
       "      <th>Инфляция, % г/г</th>\n",
       "      <th>Денежная база</th>\n",
       "      <th>Доллар США по отношению к рублю</th>\n",
       "    </tr>\n",
       "  </thead>\n",
       "  <tbody>\n",
       "    <tr>\n",
       "      <th>0</th>\n",
       "      <td>1.2020</td>\n",
       "      <td>6.25</td>\n",
       "      <td>2.40</td>\n",
       "      <td>10979.7</td>\n",
       "      <td>61.7808</td>\n",
       "    </tr>\n",
       "    <tr>\n",
       "      <th>1</th>\n",
       "      <td>2.2020</td>\n",
       "      <td>6.00</td>\n",
       "      <td>2.30</td>\n",
       "      <td>10609.1</td>\n",
       "      <td>63.8776</td>\n",
       "    </tr>\n",
       "    <tr>\n",
       "      <th>2</th>\n",
       "      <td>3.2020</td>\n",
       "      <td>6.00</td>\n",
       "      <td>2.50</td>\n",
       "      <td>10814.2</td>\n",
       "      <td>73.1480</td>\n",
       "    </tr>\n",
       "    <tr>\n",
       "      <th>3</th>\n",
       "      <td>4.2020</td>\n",
       "      <td>5.50</td>\n",
       "      <td>3.10</td>\n",
       "      <td>11536.7</td>\n",
       "      <td>75.2169</td>\n",
       "    </tr>\n",
       "    <tr>\n",
       "      <th>4</th>\n",
       "      <td>5.2020</td>\n",
       "      <td>5.50</td>\n",
       "      <td>3.00</td>\n",
       "      <td>12111.8</td>\n",
       "      <td>72.6110</td>\n",
       "    </tr>\n",
       "    <tr>\n",
       "      <th>5</th>\n",
       "      <td>6.2020</td>\n",
       "      <td>4.50</td>\n",
       "      <td>3.20</td>\n",
       "      <td>12378.9</td>\n",
       "      <td>69.2217</td>\n",
       "    </tr>\n",
       "    <tr>\n",
       "      <th>6</th>\n",
       "      <td>7.2020</td>\n",
       "      <td>4.25</td>\n",
       "      <td>3.40</td>\n",
       "      <td>12792.0</td>\n",
       "      <td>71.2825</td>\n",
       "    </tr>\n",
       "    <tr>\n",
       "      <th>7</th>\n",
       "      <td>8.2020</td>\n",
       "      <td>4.25</td>\n",
       "      <td>3.60</td>\n",
       "      <td>12996.3</td>\n",
       "      <td>73.7970</td>\n",
       "    </tr>\n",
       "    <tr>\n",
       "      <th>8</th>\n",
       "      <td>9.2020</td>\n",
       "      <td>4.25</td>\n",
       "      <td>3.70</td>\n",
       "      <td>13128.7</td>\n",
       "      <td>75.6513</td>\n",
       "    </tr>\n",
       "    <tr>\n",
       "      <th>9</th>\n",
       "      <td>10.2020</td>\n",
       "      <td>4.25</td>\n",
       "      <td>4.00</td>\n",
       "      <td>13235.0</td>\n",
       "      <td>77.5887</td>\n",
       "    </tr>\n",
       "    <tr>\n",
       "      <th>10</th>\n",
       "      <td>11.2020</td>\n",
       "      <td>4.25</td>\n",
       "      <td>4.40</td>\n",
       "      <td>13334.5</td>\n",
       "      <td>77.0330</td>\n",
       "    </tr>\n",
       "    <tr>\n",
       "      <th>11</th>\n",
       "      <td>12.2020</td>\n",
       "      <td>4.25</td>\n",
       "      <td>4.90</td>\n",
       "      <td>13316.3</td>\n",
       "      <td>74.0504</td>\n",
       "    </tr>\n",
       "    <tr>\n",
       "      <th>12</th>\n",
       "      <td>1.2021</td>\n",
       "      <td>4.25</td>\n",
       "      <td>5.20</td>\n",
       "      <td>13826.3</td>\n",
       "      <td>74.2247</td>\n",
       "    </tr>\n",
       "    <tr>\n",
       "      <th>13</th>\n",
       "      <td>2.2021</td>\n",
       "      <td>4.25</td>\n",
       "      <td>5.70</td>\n",
       "      <td>13590.2</td>\n",
       "      <td>74.3794</td>\n",
       "    </tr>\n",
       "    <tr>\n",
       "      <th>14</th>\n",
       "      <td>3.2021</td>\n",
       "      <td>4.50</td>\n",
       "      <td>5.80</td>\n",
       "      <td>13727.0</td>\n",
       "      <td>74.4093</td>\n",
       "    </tr>\n",
       "    <tr>\n",
       "      <th>15</th>\n",
       "      <td>4.2021</td>\n",
       "      <td>5.00</td>\n",
       "      <td>5.50</td>\n",
       "      <td>13732.3</td>\n",
       "      <td>76.0924</td>\n",
       "    </tr>\n",
       "    <tr>\n",
       "      <th>16</th>\n",
       "      <td>5.2021</td>\n",
       "      <td>5.00</td>\n",
       "      <td>6.00</td>\n",
       "      <td>14136.1</td>\n",
       "      <td>74.0420</td>\n",
       "    </tr>\n",
       "    <tr>\n",
       "      <th>17</th>\n",
       "      <td>6.2021</td>\n",
       "      <td>5.50</td>\n",
       "      <td>6.50</td>\n",
       "      <td>13959.3</td>\n",
       "      <td>72.5083</td>\n",
       "    </tr>\n",
       "    <tr>\n",
       "      <th>18</th>\n",
       "      <td>7.2021</td>\n",
       "      <td>6.50</td>\n",
       "      <td>6.50</td>\n",
       "      <td>13989.0</td>\n",
       "      <td>73.9174</td>\n",
       "    </tr>\n",
       "    <tr>\n",
       "      <th>19</th>\n",
       "      <td>8.2021</td>\n",
       "      <td>6.50</td>\n",
       "      <td>6.68</td>\n",
       "      <td>14186.7</td>\n",
       "      <td>73.5929</td>\n",
       "    </tr>\n",
       "    <tr>\n",
       "      <th>20</th>\n",
       "      <td>9.2021</td>\n",
       "      <td>6.75</td>\n",
       "      <td>7.40</td>\n",
       "      <td>14218.0</td>\n",
       "      <td>72.8910</td>\n",
       "    </tr>\n",
       "    <tr>\n",
       "      <th>21</th>\n",
       "      <td>10.2021</td>\n",
       "      <td>7.50</td>\n",
       "      <td>8.13</td>\n",
       "      <td>14320.7</td>\n",
       "      <td>71.4920</td>\n",
       "    </tr>\n",
       "    <tr>\n",
       "      <th>22</th>\n",
       "      <td>11.2021</td>\n",
       "      <td>7.50</td>\n",
       "      <td>8.40</td>\n",
       "      <td>14287.1</td>\n",
       "      <td>72.5864</td>\n",
       "    </tr>\n",
       "    <tr>\n",
       "      <th>23</th>\n",
       "      <td>12.2021</td>\n",
       "      <td>8.50</td>\n",
       "      <td>8.39</td>\n",
       "      <td>14190.8</td>\n",
       "      <td>73.7164</td>\n",
       "    </tr>\n",
       "  </tbody>\n",
       "</table>\n",
       "</div>"
      ],
      "text/plain": [
       "       Дата  Ключевая ставка, % годовых  Инфляция, % г/г  Денежная база  \\\n",
       "0    1.2020                        6.25             2.40        10979.7   \n",
       "1    2.2020                        6.00             2.30        10609.1   \n",
       "2    3.2020                        6.00             2.50        10814.2   \n",
       "3    4.2020                        5.50             3.10        11536.7   \n",
       "4    5.2020                        5.50             3.00        12111.8   \n",
       "5    6.2020                        4.50             3.20        12378.9   \n",
       "6    7.2020                        4.25             3.40        12792.0   \n",
       "7    8.2020                        4.25             3.60        12996.3   \n",
       "8    9.2020                        4.25             3.70        13128.7   \n",
       "9   10.2020                        4.25             4.00        13235.0   \n",
       "10  11.2020                        4.25             4.40        13334.5   \n",
       "11  12.2020                        4.25             4.90        13316.3   \n",
       "12   1.2021                        4.25             5.20        13826.3   \n",
       "13   2.2021                        4.25             5.70        13590.2   \n",
       "14   3.2021                        4.50             5.80        13727.0   \n",
       "15   4.2021                        5.00             5.50        13732.3   \n",
       "16   5.2021                        5.00             6.00        14136.1   \n",
       "17   6.2021                        5.50             6.50        13959.3   \n",
       "18   7.2021                        6.50             6.50        13989.0   \n",
       "19   8.2021                        6.50             6.68        14186.7   \n",
       "20   9.2021                        6.75             7.40        14218.0   \n",
       "21  10.2021                        7.50             8.13        14320.7   \n",
       "22  11.2021                        7.50             8.40        14287.1   \n",
       "23  12.2021                        8.50             8.39        14190.8   \n",
       "\n",
       "    Доллар США по отношению к рублю  \n",
       "0                           61.7808  \n",
       "1                           63.8776  \n",
       "2                           73.1480  \n",
       "3                           75.2169  \n",
       "4                           72.6110  \n",
       "5                           69.2217  \n",
       "6                           71.2825  \n",
       "7                           73.7970  \n",
       "8                           75.6513  \n",
       "9                           77.5887  \n",
       "10                          77.0330  \n",
       "11                          74.0504  \n",
       "12                          74.2247  \n",
       "13                          74.3794  \n",
       "14                          74.4093  \n",
       "15                          76.0924  \n",
       "16                          74.0420  \n",
       "17                          72.5083  \n",
       "18                          73.9174  \n",
       "19                          73.5929  \n",
       "20                          72.8910  \n",
       "21                          71.4920  \n",
       "22                          72.5864  \n",
       "23                          73.7164  "
      ]
     },
     "execution_count": 5,
     "metadata": {},
     "output_type": "execute_result"
    }
   ],
   "source": [
    "# Соединение всех данных в одну таблицу:\n",
    "data = pd.concat([infl_perc, money_supply, exchange], axis=1)\n",
    "data = data.iloc[72:].reset_index(drop=True)\n",
    "data"
   ]
  },
  {
   "cell_type": "code",
   "execution_count": 6,
   "id": "34accb46",
   "metadata": {},
   "outputs": [],
   "source": [
    "data.to_excel(\"data.xlsx\")"
   ]
  },
  {
   "cell_type": "code",
   "execution_count": 35,
   "id": "1ddd138f",
   "metadata": {},
   "outputs": [
    {
     "data": {
      "text/html": [
       "<div>\n",
       "<style scoped>\n",
       "    .dataframe tbody tr th:only-of-type {\n",
       "        vertical-align: middle;\n",
       "    }\n",
       "\n",
       "    .dataframe tbody tr th {\n",
       "        vertical-align: top;\n",
       "    }\n",
       "\n",
       "    .dataframe thead th {\n",
       "        text-align: right;\n",
       "    }\n",
       "</style>\n",
       "<table border=\"1\" class=\"dataframe\">\n",
       "  <thead>\n",
       "    <tr style=\"text-align: right;\">\n",
       "      <th></th>\n",
       "      <th>Дата</th>\n",
       "      <th>Ключевая ставка, % годовых</th>\n",
       "      <th>Инфляция, % г/г</th>\n",
       "      <th>Денежная база</th>\n",
       "      <th>Доллар США по отношению к рублю</th>\n",
       "    </tr>\n",
       "  </thead>\n",
       "  <tbody>\n",
       "    <tr>\n",
       "      <th>count</th>\n",
       "      <td>24.000000</td>\n",
       "      <td>24.000000</td>\n",
       "      <td>24.000000</td>\n",
       "      <td>24.000000</td>\n",
       "      <td>24.000000</td>\n",
       "    </tr>\n",
       "    <tr>\n",
       "      <th>mean</th>\n",
       "      <td>6.702050</td>\n",
       "      <td>5.458333</td>\n",
       "      <td>5.029167</td>\n",
       "      <td>13141.529167</td>\n",
       "      <td>72.879629</td>\n",
       "    </tr>\n",
       "    <tr>\n",
       "      <th>std</th>\n",
       "      <td>3.526299</td>\n",
       "      <td>1.261182</td>\n",
       "      <td>1.945575</td>\n",
       "      <td>1155.959591</td>\n",
       "      <td>3.597015</td>\n",
       "    </tr>\n",
       "    <tr>\n",
       "      <th>min</th>\n",
       "      <td>1.202000</td>\n",
       "      <td>4.250000</td>\n",
       "      <td>2.300000</td>\n",
       "      <td>10609.100000</td>\n",
       "      <td>61.780800</td>\n",
       "    </tr>\n",
       "    <tr>\n",
       "      <th>25%</th>\n",
       "      <td>3.952025</td>\n",
       "      <td>4.250000</td>\n",
       "      <td>3.350000</td>\n",
       "      <td>12688.725000</td>\n",
       "      <td>72.566875</td>\n",
       "    </tr>\n",
       "    <tr>\n",
       "      <th>50%</th>\n",
       "      <td>6.702050</td>\n",
       "      <td>5.250000</td>\n",
       "      <td>5.050000</td>\n",
       "      <td>13462.350000</td>\n",
       "      <td>73.756700</td>\n",
       "    </tr>\n",
       "    <tr>\n",
       "      <th>75%</th>\n",
       "      <td>9.452075</td>\n",
       "      <td>6.312500</td>\n",
       "      <td>6.500000</td>\n",
       "      <td>14025.775000</td>\n",
       "      <td>74.386875</td>\n",
       "    </tr>\n",
       "    <tr>\n",
       "      <th>max</th>\n",
       "      <td>12.202100</td>\n",
       "      <td>8.500000</td>\n",
       "      <td>8.400000</td>\n",
       "      <td>14320.700000</td>\n",
       "      <td>77.588700</td>\n",
       "    </tr>\n",
       "  </tbody>\n",
       "</table>\n",
       "</div>"
      ],
      "text/plain": [
       "            Дата  Ключевая ставка, % годовых  Инфляция, % г/г  Денежная база  \\\n",
       "count  24.000000                   24.000000        24.000000      24.000000   \n",
       "mean    6.702050                    5.458333         5.029167   13141.529167   \n",
       "std     3.526299                    1.261182         1.945575    1155.959591   \n",
       "min     1.202000                    4.250000         2.300000   10609.100000   \n",
       "25%     3.952025                    4.250000         3.350000   12688.725000   \n",
       "50%     6.702050                    5.250000         5.050000   13462.350000   \n",
       "75%     9.452075                    6.312500         6.500000   14025.775000   \n",
       "max    12.202100                    8.500000         8.400000   14320.700000   \n",
       "\n",
       "       Доллар США по отношению к рублю  \n",
       "count                        24.000000  \n",
       "mean                         72.879629  \n",
       "std                           3.597015  \n",
       "min                          61.780800  \n",
       "25%                          72.566875  \n",
       "50%                          73.756700  \n",
       "75%                          74.386875  \n",
       "max                          77.588700  "
      ]
     },
     "execution_count": 35,
     "metadata": {},
     "output_type": "execute_result"
    }
   ],
   "source": [
    "data.describe()"
   ]
  },
  {
   "cell_type": "markdown",
   "id": "5a2c5635",
   "metadata": {},
   "source": [
    "## Описательный анализ"
   ]
  },
  {
   "cell_type": "markdown",
   "id": "31059fd8",
   "metadata": {},
   "source": [
    "Визуализируем график зависимости значений параметров от даты:"
   ]
  },
  {
   "cell_type": "code",
   "execution_count": 36,
   "id": "6e84165b",
   "metadata": {},
   "outputs": [
    {
     "data": {
      "image/png": "[encoded data removed]",
      "text/plain": [
       "<Figure size 1800x800 with 1 Axes>"
      ]
     },
     "metadata": {},
     "output_type": "display_data"
    }
   ],
   "source": [
    "plt.figure(figsize=(18, 8))\n",
    "plt.title('Распределение значений данных по годам')\n",
    "plt.plot(data['Ключевая ставка, % годовых'], label='Ключевая ставка')\n",
    "plt.plot(data['Инфляция, % г/г'], label='Инфляция', lw=4, linestyle='--')\n",
    "plt.plot(data['Денежная база'], label='Денежная база')\n",
    "plt.plot(data['Доллар США по отношению к рублю'], label='Курс доллара США')\n",
    "for m in range(0, 25):\n",
    "    plt.axvline(x=m, linestyle='dotted')\n",
    "plt.legend()\n",
    "plt.xlabel('Года')\n",
    "plt.ylabel('Значение')\n",
    "plt.yscale('log')\n",
    "plt.xticks(range(0, 25, 12), [2020, 2021, 2022])\n",
    "plt.grid(linestyle='--')\n",
    "plt.show()"
   ]
  },
  {
   "cell_type": "code",
   "execution_count": 37,
   "id": "75d7adf5",
   "metadata": {},
   "outputs": [
    {
     "data": {
      "image/png": "[encoded data removed]",
      "text/plain": [
       "<Figure size 1800x800 with 1 Axes>"
      ]
     },
     "metadata": {},
     "output_type": "display_data"
    }
   ],
   "source": [
    "plt.figure(figsize=(18, 8))\n",
    "plt.title('Распределение значений инфляции по годам')\n",
    "plt.plot(data['Инфляция, % г/г'], label='Инфляция', lw=4, linestyle='--')\n",
    "for m in range(0, 25):\n",
    "    plt.axvline(x=m, linestyle='dotted')\n",
    "plt.legend()\n",
    "plt.xlabel('Года')\n",
    "plt.ylabel('Значение')\n",
    "plt.xticks(range(0, 25, 12), [2020, 2021, 2022])\n",
    "plt.grid(linestyle='--')\n",
    "plt.show()"
   ]
  },
  {
   "cell_type": "markdown",
   "id": "29c4c1ca",
   "metadata": {},
   "source": [
    "Рассмотрим описательную статистику по каждому столбцу из таблицы:"
   ]
  },
  {
   "cell_type": "code",
   "execution_count": 38,
   "id": "6e183abc",
   "metadata": {},
   "outputs": [
    {
     "data": {
      "text/html": [
       "<div>\n",
       "<style scoped>\n",
       "    .dataframe tbody tr th:only-of-type {\n",
       "        vertical-align: middle;\n",
       "    }\n",
       "\n",
       "    .dataframe tbody tr th {\n",
       "        vertical-align: top;\n",
       "    }\n",
       "\n",
       "    .dataframe thead th {\n",
       "        text-align: right;\n",
       "    }\n",
       "</style>\n",
       "<table border=\"1\" class=\"dataframe\">\n",
       "  <thead>\n",
       "    <tr style=\"text-align: right;\">\n",
       "      <th></th>\n",
       "      <th>Дата</th>\n",
       "      <th>Ключевая ставка, % годовых</th>\n",
       "      <th>Инфляция, % г/г</th>\n",
       "      <th>Денежная база</th>\n",
       "      <th>Доллар США по отношению к рублю</th>\n",
       "    </tr>\n",
       "  </thead>\n",
       "  <tbody>\n",
       "    <tr>\n",
       "      <th>count</th>\n",
       "      <td>24.000000</td>\n",
       "      <td>24.000000</td>\n",
       "      <td>24.000000</td>\n",
       "      <td>24.000000</td>\n",
       "      <td>24.000000</td>\n",
       "    </tr>\n",
       "    <tr>\n",
       "      <th>mean</th>\n",
       "      <td>6.702050</td>\n",
       "      <td>5.458333</td>\n",
       "      <td>5.029167</td>\n",
       "      <td>13141.529167</td>\n",
       "      <td>72.879629</td>\n",
       "    </tr>\n",
       "    <tr>\n",
       "      <th>std</th>\n",
       "      <td>3.526299</td>\n",
       "      <td>1.261182</td>\n",
       "      <td>1.945575</td>\n",
       "      <td>1155.959591</td>\n",
       "      <td>3.597015</td>\n",
       "    </tr>\n",
       "    <tr>\n",
       "      <th>min</th>\n",
       "      <td>1.202000</td>\n",
       "      <td>4.250000</td>\n",
       "      <td>2.300000</td>\n",
       "      <td>10609.100000</td>\n",
       "      <td>61.780800</td>\n",
       "    </tr>\n",
       "    <tr>\n",
       "      <th>25%</th>\n",
       "      <td>3.952025</td>\n",
       "      <td>4.250000</td>\n",
       "      <td>3.350000</td>\n",
       "      <td>12688.725000</td>\n",
       "      <td>72.566875</td>\n",
       "    </tr>\n",
       "    <tr>\n",
       "      <th>50%</th>\n",
       "      <td>6.702050</td>\n",
       "      <td>5.250000</td>\n",
       "      <td>5.050000</td>\n",
       "      <td>13462.350000</td>\n",
       "      <td>73.756700</td>\n",
       "    </tr>\n",
       "    <tr>\n",
       "      <th>75%</th>\n",
       "      <td>9.452075</td>\n",
       "      <td>6.312500</td>\n",
       "      <td>6.500000</td>\n",
       "      <td>14025.775000</td>\n",
       "      <td>74.386875</td>\n",
       "    </tr>\n",
       "    <tr>\n",
       "      <th>max</th>\n",
       "      <td>12.202100</td>\n",
       "      <td>8.500000</td>\n",
       "      <td>8.400000</td>\n",
       "      <td>14320.700000</td>\n",
       "      <td>77.588700</td>\n",
       "    </tr>\n",
       "  </tbody>\n",
       "</table>\n",
       "</div>"
      ],
      "text/plain": [
       "            Дата  Ключевая ставка, % годовых  Инфляция, % г/г  Денежная база  \\\n",
       "count  24.000000                   24.000000        24.000000      24.000000   \n",
       "mean    6.702050                    5.458333         5.029167   13141.529167   \n",
       "std     3.526299                    1.261182         1.945575    1155.959591   \n",
       "min     1.202000                    4.250000         2.300000   10609.100000   \n",
       "25%     3.952025                    4.250000         3.350000   12688.725000   \n",
       "50%     6.702050                    5.250000         5.050000   13462.350000   \n",
       "75%     9.452075                    6.312500         6.500000   14025.775000   \n",
       "max    12.202100                    8.500000         8.400000   14320.700000   \n",
       "\n",
       "       Доллар США по отношению к рублю  \n",
       "count                        24.000000  \n",
       "mean                         72.879629  \n",
       "std                           3.597015  \n",
       "min                          61.780800  \n",
       "25%                          72.566875  \n",
       "50%                          73.756700  \n",
       "75%                          74.386875  \n",
       "max                          77.588700  "
      ]
     },
     "execution_count": 38,
     "metadata": {},
     "output_type": "execute_result"
    }
   ],
   "source": [
    "data.describe()"
   ]
  },
  {
   "cell_type": "markdown",
   "id": "105b4f90",
   "metadata": {},
   "source": [
    "Видим, что пропущенных значений нет."
   ]
  },
  {
   "cell_type": "markdown",
   "id": "3cae1683",
   "metadata": {},
   "source": [
    "## Выбор модели, оценка параметров"
   ]
  },
  {
   "cell_type": "markdown",
   "id": "b14d2c68",
   "metadata": {},
   "source": [
    "В качестве модели рассмотрим линейное\n",
    "регрессионное уравнение:\n",
    "$$Y = \\beta_0 + \\beta_1 \\cdot X_1 + \\beta_2 \\cdot X_2 + \\beta_3 \\cdot X_3 + \\varepsilon $$\n",
    "где $Y$ - объясняемая переменная (инфляция), a $X_1$, $X_2$, $X_3$ - объясняющие переменные (ключевая ставка, денежная база и курс доллара соотв.).\\\n",
    "$\\beta_0$, $\\beta_1$, $\\beta_2$ - параметры регрессии, $\\varepsilon$ - ошибка регресии."
   ]
  },
  {
   "cell_type": "markdown",
   "id": "25bd0b8a",
   "metadata": {},
   "source": [
    "Выделим признаки и целевую переменную из данных."
   ]
  },
  {
   "cell_type": "code",
   "execution_count": 7,
   "id": "e7dae998",
   "metadata": {},
   "outputs": [],
   "source": [
    "Y = data[['Инфляция, % г/г']].rename(columns={'Инфляция, % г/г': 'Y'})\n",
    "X = data.rename(\n",
    "    columns={'Ключевая ставка, % годовых': 'X1', \n",
    "             'Денежная база': 'X2', \n",
    "             'Доллар США по отношению к рублю': 'X3'}\n",
    ").drop(['Инфляция, % г/г', 'Дата'], axis=1)"
   ]
  },
  {
   "cell_type": "markdown",
   "id": "d834955f",
   "metadata": {},
   "source": [
    "Оценим параметры уравнения регрессии с помощью метода наименьших квадратов:"
   ]
  },
  {
   "cell_type": "code",
   "execution_count": 8,
   "id": "76910280",
   "metadata": {},
   "outputs": [
    {
     "name": "stdout",
     "output_type": "stream",
     "text": [
      "beta_0 = -16.117260406018282\n",
      "beta_1 = 0.6626650447765302\n",
      "beta_2 = 0.0013898856077517946\n",
      "beta_3 = -0.010096674352895296\n"
     ]
    }
   ],
   "source": [
    "X_ = sm.add_constant(X)\n",
    "reg = sm.OLS(Y, X_).fit() \n",
    "b0, b1, b2, b3 = reg.params\n",
    "print(f'beta_0 = {b0}\\nbeta_1 = {b1}\\nbeta_2 = {b2}\\nbeta_3 = {b3}')"
   ]
  },
  {
   "cell_type": "code",
   "execution_count": 9,
   "id": "c559ff69",
   "metadata": {},
   "outputs": [
    {
     "name": "stdout",
     "output_type": "stream",
     "text": [
      "                            OLS Regression Results                            \n",
      "==============================================================================\n",
      "Dep. Variable:                      Y   R-squared:                       0.960\n",
      "Model:                            OLS   Adj. R-squared:                  0.954\n",
      "Method:                 Least Squares   F-statistic:                     161.6\n",
      "Date:                Wed, 31 May 2023   Prob (F-statistic):           3.45e-14\n",
      "Time:                        09:58:46   Log-Likelihood:                -10.773\n",
      "No. Observations:                  24   AIC:                             29.55\n",
      "Df Residuals:                      20   BIC:                             34.26\n",
      "Df Model:                           3                                         \n",
      "Covariance Type:            nonrobust                                         \n",
      "==============================================================================\n",
      "                 coef    std err          t      P>|t|      [0.025      0.975]\n",
      "------------------------------------------------------------------------------\n",
      "const        -16.1173      2.023     -7.965      0.000     -20.338     -11.896\n",
      "X1             0.6627      0.078      8.490      0.000       0.500       0.825\n",
      "X2             0.0014   9.79e-05     14.196      0.000       0.001       0.002\n",
      "X3            -0.0101      0.033     -0.310      0.760      -0.078       0.058\n",
      "==============================================================================\n",
      "Omnibus:                        0.954   Durbin-Watson:                   1.281\n",
      "Prob(Omnibus):                  0.621   Jarque-Bera (JB):                0.940\n",
      "Skew:                           0.351   Prob(JB):                        0.625\n",
      "Kurtosis:                       2.331   Cond. No.                     3.15e+05\n",
      "==============================================================================\n",
      "\n",
      "Notes:\n",
      "[1] Standard Errors assume that the covariance matrix of the errors is correctly specified.\n",
      "[2] The condition number is large, 3.15e+05. This might indicate that there are\n",
      "strong multicollinearity or other numerical problems.\n"
     ]
    }
   ],
   "source": [
    "print(reg.summary())"
   ]
  },
  {
   "cell_type": "markdown",
   "id": "d61cd6e6",
   "metadata": {},
   "source": [
    "## Анализ и оценка модели"
   ]
  },
  {
   "cell_type": "markdown",
   "id": "3655b0b7",
   "metadata": {},
   "source": [
    "Приверим соблюдение условий Гаусса-Маркова:"
   ]
  },
  {
   "cell_type": "markdown",
   "id": "7dacbd33",
   "metadata": {},
   "source": [
    "1. Математическое ожидание ошибок регрессии равно 0"
   ]
  },
  {
   "cell_type": "code",
   "execution_count": 10,
   "id": "ec80e47e",
   "metadata": {},
   "outputs": [
    {
     "data": {
      "text/plain": [
       "1.556199613617082e-12"
      ]
     },
     "execution_count": 10,
     "metadata": {},
     "output_type": "execute_result"
    }
   ],
   "source": [
    "reg.resid.mean()"
   ]
  },
  {
   "cell_type": "markdown",
   "id": "0bb4b7d8",
   "metadata": {},
   "source": [
    "Первое условие Гаусса-Маркова соблюдается."
   ]
  },
  {
   "cell_type": "markdown",
   "id": "06ec0efb",
   "metadata": {},
   "source": [
    "2. Дисперсия случайных отклонений постоянна (наличие гомоскедастичности)"
   ]
  },
  {
   "cell_type": "markdown",
   "id": "628d9178",
   "metadata": {},
   "source": [
    "Проверим данные на наличие/отсутствии гомоскедастичности. Для проверки будем использовать тест Голдфелда — Куандта.\\\n",
    "Вычислим p-value:"
   ]
  },
  {
   "cell_type": "code",
   "execution_count": 11,
   "id": "35fc552a",
   "metadata": {},
   "outputs": [
    {
     "data": {
      "text/plain": [
       "(0.744924908635317, 0.6911200142072762, 'increasing')"
      ]
     },
     "execution_count": 11,
     "metadata": {},
     "output_type": "execute_result"
    }
   ],
   "source": [
    "p_value = sm.stats.diagnostic.het_goldfeldquandt(Y, X, drop=0.33)\n",
    "p_value"
   ]
  },
  {
   "cell_type": "markdown",
   "id": "916fc78d",
   "metadata": {},
   "source": [
    "Так как значение p-value не меньше 0.05, мы не можем отвергнуть нулевую гипотезу о присутствии гомоскедастичности."
   ]
  },
  {
   "cell_type": "markdown",
   "id": "e637c6b2",
   "metadata": {},
   "source": [
    "3. Случайные отклонения остатков независимы (отсутствие автокорреляции)"
   ]
  },
  {
   "cell_type": "markdown",
   "id": "da5038dc",
   "metadata": {},
   "source": [
    "Для проверки данных на автокорреляцию вычислим статистику Дарбина-Уотсона:"
   ]
  },
  {
   "cell_type": "code",
   "execution_count": 12,
   "id": "58b1cc3a",
   "metadata": {},
   "outputs": [
    {
     "data": {
      "text/plain": [
       "1.280715738149678"
      ]
     },
     "execution_count": 12,
     "metadata": {},
     "output_type": "execute_result"
    }
   ],
   "source": [
    "DW = durbin_watson(reg.resid)\n",
    "DW"
   ]
  },
  {
   "cell_type": "code",
   "execution_count": 13,
   "id": "71106948",
   "metadata": {},
   "outputs": [
    {
     "ename": "SyntaxError",
     "evalue": "invalid syntax (1421208862.py, line 1)",
     "output_type": "error",
     "traceback": [
      "\u001b[1;36m  Cell \u001b[1;32mIn[13], line 1\u001b[1;36m\u001b[0m\n\u001b[1;33m    1,10 \t1,66\u001b[0m\n\u001b[1;37m         \t^\u001b[0m\n\u001b[1;31mSyntaxError\u001b[0m\u001b[1;31m:\u001b[0m invalid syntax\n"
     ]
    }
   ],
   "source": [
    "1,10 \t1,66"
   ]
  },
  {
   "cell_type": "markdown",
   "id": "03cb0981",
   "metadata": {},
   "source": [
    "Так как значение статистики Дарбина-Уотсона близко к двум, это говорит об отсутствии автокорреляции."
   ]
  },
  {
   "cell_type": "markdown",
   "id": "a0de9f3d",
   "metadata": {},
   "source": [
    "4. Отсутствие мультиколлинеарности"
   ]
  },
  {
   "cell_type": "markdown",
   "id": "bceea45b",
   "metadata": {},
   "source": [
    "Проверим данные на мультиколлинеарность. Для проверки проанализируем матрицу коэффициентов корреляции:"
   ]
  },
  {
   "cell_type": "code",
   "execution_count": 14,
   "id": "6bb363f2",
   "metadata": {},
   "outputs": [
    {
     "data": {
      "text/html": [
       "<div>\n",
       "<style scoped>\n",
       "    .dataframe tbody tr th:only-of-type {\n",
       "        vertical-align: middle;\n",
       "    }\n",
       "\n",
       "    .dataframe tbody tr th {\n",
       "        vertical-align: top;\n",
       "    }\n",
       "\n",
       "    .dataframe thead th {\n",
       "        text-align: right;\n",
       "    }\n",
       "</style>\n",
       "<table border=\"1\" class=\"dataframe\">\n",
       "  <thead>\n",
       "    <tr style=\"text-align: right;\">\n",
       "      <th></th>\n",
       "      <th>Y</th>\n",
       "      <th>X1</th>\n",
       "      <th>X2</th>\n",
       "      <th>X3</th>\n",
       "    </tr>\n",
       "  </thead>\n",
       "  <tbody>\n",
       "    <tr>\n",
       "      <th>Y</th>\n",
       "      <td>1.000000</td>\n",
       "      <td>0.558409</td>\n",
       "      <td>0.879614</td>\n",
       "      <td>0.314084</td>\n",
       "    </tr>\n",
       "    <tr>\n",
       "      <th>X1</th>\n",
       "      <td>0.558409</td>\n",
       "      <td>1.000000</td>\n",
       "      <td>0.149411</td>\n",
       "      <td>-0.292784</td>\n",
       "    </tr>\n",
       "    <tr>\n",
       "      <th>X2</th>\n",
       "      <td>0.879614</td>\n",
       "      <td>0.149411</td>\n",
       "      <td>1.000000</td>\n",
       "      <td>0.555244</td>\n",
       "    </tr>\n",
       "    <tr>\n",
       "      <th>X3</th>\n",
       "      <td>0.314084</td>\n",
       "      <td>-0.292784</td>\n",
       "      <td>0.555244</td>\n",
       "      <td>1.000000</td>\n",
       "    </tr>\n",
       "  </tbody>\n",
       "</table>\n",
       "</div>"
      ],
      "text/plain": [
       "           Y        X1        X2        X3\n",
       "Y   1.000000  0.558409  0.879614  0.314084\n",
       "X1  0.558409  1.000000  0.149411 -0.292784\n",
       "X2  0.879614  0.149411  1.000000  0.555244\n",
       "X3  0.314084 -0.292784  0.555244  1.000000"
      ]
     },
     "execution_count": 14,
     "metadata": {},
     "output_type": "execute_result"
    }
   ],
   "source": [
    "pd.concat([Y, X], axis=1).corr()"
   ]
  },
  {
   "cell_type": "code",
   "execution_count": 15,
   "id": "43f14570",
   "metadata": {},
   "outputs": [],
   "source": [
    "import seaborn as sns"
   ]
  },
  {
   "cell_type": "code",
   "execution_count": 25,
   "id": "97d582d3",
   "metadata": {},
   "outputs": [
    {
     "data": {
      "image/png": "[encoded data removed]",
      "text/plain": [
       "<Figure size 640x480 with 2 Axes>"
      ]
     },
     "metadata": {},
     "output_type": "display_data"
    }
   ],
   "source": [
    "sns.heatmap(pd.concat([Y, X], axis=1).corr(), annot = True, cmap= 'bwr', linewidths=3, linecolor='black', square=False)\n",
    "plt.show()"
   ]
  },
  {
   "cell_type": "markdown",
   "id": "ebff8575",
   "metadata": {},
   "source": [
    "Видим, что величины ни одного из коэффциентов не превышает по модулю 0.75, что может говорить об отсутствии мультиколлинеарности. Для более точной провери воспользуемся VIF-тестом:"
   ]
  },
  {
   "cell_type": "code",
   "execution_count": 26,
   "id": "2e4c4fb4",
   "metadata": {},
   "outputs": [
    {
     "data": {
      "text/html": [
       "<div>\n",
       "<style scoped>\n",
       "    .dataframe tbody tr th:only-of-type {\n",
       "        vertical-align: middle;\n",
       "    }\n",
       "\n",
       "    .dataframe tbody tr th {\n",
       "        vertical-align: top;\n",
       "    }\n",
       "\n",
       "    .dataframe thead th {\n",
       "        text-align: right;\n",
       "    }\n",
       "</style>\n",
       "<table border=\"1\" class=\"dataframe\">\n",
       "  <thead>\n",
       "    <tr style=\"text-align: right;\">\n",
       "      <th></th>\n",
       "      <th>VIF</th>\n",
       "      <th>Переменная</th>\n",
       "    </tr>\n",
       "  </thead>\n",
       "  <tbody>\n",
       "    <tr>\n",
       "      <th>0</th>\n",
       "      <td>569.906034</td>\n",
       "      <td>Intercept</td>\n",
       "    </tr>\n",
       "    <tr>\n",
       "      <th>1</th>\n",
       "      <td>1.292713</td>\n",
       "      <td>X1</td>\n",
       "    </tr>\n",
       "    <tr>\n",
       "      <th>2</th>\n",
       "      <td>1.708676</td>\n",
       "      <td>X2</td>\n",
       "    </tr>\n",
       "    <tr>\n",
       "      <th>3</th>\n",
       "      <td>1.827160</td>\n",
       "      <td>X3</td>\n",
       "    </tr>\n",
       "  </tbody>\n",
       "</table>\n",
       "</div>"
      ],
      "text/plain": [
       "          VIF Переменная\n",
       "0  569.906034  Intercept\n",
       "1    1.292713         X1\n",
       "2    1.708676         X2\n",
       "3    1.827160         X3"
      ]
     },
     "execution_count": 26,
     "metadata": {},
     "output_type": "execute_result"
    }
   ],
   "source": [
    "y, x = dmatrices('Y ~ X1+X2+X3', data=pd.concat([Y, X], axis=1), return_type='dataframe')\n",
    "\n",
    "vif = pd.DataFrame()\n",
    "vif['VIF'] = [variance_inflation_factor(x.values, i) for i in range(x.shape[1])]\n",
    "vif['Переменная'] = x.columns\n",
    "\n",
    "vif"
   ]
  },
  {
   "cell_type": "markdown",
   "id": "4d3e5fbf",
   "metadata": {},
   "source": [
    "Т.к. все значения VIF меньше 10, мультиколлинеарность не наблюдается."
   ]
  },
  {
   "cell_type": "markdown",
   "id": "cd2b5cf8",
   "metadata": {},
   "source": [
    "Проверим статистическую значимость уравнения рергесии в целом. Для этого воспользуемся *F*-критерием Фишера. Найдем расчетное значение критерия:\n",
    "$$Q_r = B^T(X^TY) - n\\bar{y}^2$$\n",
    "$$Q_e = Y^TY - B^TX^TY$$\n",
    "$$S_r^2 = \\frac{Q_r}{p}$$\n",
    "$$S_e^2 = \\frac{Q_e}{n - p - 1}$$\n",
    "$$F_p = \\frac{S_r^2}{S_e^2}$$\n",
    "И сравним его с табличным $F_{\\alpha;p;n - p - 1}$\\\n",
    "Eсли $F_p \\geq F_{\\alpha;p;n - p - 1}$, то уравнение значимо."
   ]
  },
  {
   "cell_type": "code",
   "execution_count": 35,
   "id": "f53314eb",
   "metadata": {},
   "outputs": [
    {
     "name": "stdout",
     "output_type": "stream",
     "text": [
      "Уравнение регрессии в целом значимо\n"
     ]
    }
   ],
   "source": [
    "n = len(Y)\n",
    "p = 3\n",
    "alpha = 0.05\n",
    "B = reg.params.values\n",
    "Q_r = np.dot(B.T, np.dot(X_.T.values, Y.values)) - n * Y.values.mean()**2\n",
    "Q_e = np.dot(Y.T.values, Y.values) - np.dot(np.dot(B.T, X_.T.values), Y.values)\n",
    "S_r = Q_r / p\n",
    "S_e = Q_e / (n - p - 1)\n",
    "F_p = S_r / S_e\n",
    "F = f.isf(alpha, p, n - p - 1)\n",
    "if F_p >= F:\n",
    "    print('Уравнение регрессии в целом значимо')\n",
    "else:\n",
    "    print('Уравнение регрессии в целом незначимо')"
   ]
  },
  {
   "cell_type": "code",
   "execution_count": 36,
   "id": "18fa423c",
   "metadata": {},
   "outputs": [
    {
     "data": {
      "text/plain": [
       "3.09839121214078"
      ]
     },
     "execution_count": 36,
     "metadata": {},
     "output_type": "execute_result"
    }
   ],
   "source": [
    "F"
   ]
  },
  {
   "cell_type": "code",
   "execution_count": 37,
   "id": "eddd778c",
   "metadata": {},
   "outputs": [
    {
     "data": {
      "text/plain": [
       "array([[161.64577458]])"
      ]
     },
     "execution_count": 37,
     "metadata": {},
     "output_type": "execute_result"
    }
   ],
   "source": [
    "F_p"
   ]
  },
  {
   "cell_type": "markdown",
   "id": "a485957e",
   "metadata": {},
   "source": [
    "Для проверки статистической значимости коэффициентов регресии воспользуемся *t*-критерием Стьюдента. Для этого сначала найдем стандартные ошибки коэффициентов регрессии:\n",
    "$$m_{b_i} = S_e\\sqrt{[(X^TX)^{-1}]_{ii}}$$\n",
    "Затем найдем наблюдаемые значения *t*-критерия:\n",
    "$$t_{b_i} = \\frac{b_i}{m_{b_i}}$$\n",
    "И сравним их с табличным $t_{\\alpha;n - p - 1}$\\\n",
    "Eсли $t_{b_i} \\geq t_{\\alpha;n - p - 1}$, то уравнение значимо."
   ]
  },
  {
   "cell_type": "code",
   "execution_count": 38,
   "id": "726b5691",
   "metadata": {},
   "outputs": [
    {
     "name": "stdout",
     "output_type": "stream",
     "text": [
      "Коэффицент b0 значим\n",
      "Коэффицент b1 значим\n",
      "Коэффицент b2 значим\n"
     ]
    }
   ],
   "source": [
    "matrix = np.linalg.inv(np.dot(X_.T.values, X_.values))\n",
    "m_b0 = np.sqrt(S_e * matrix[0, 0])\n",
    "m_b1 = np.sqrt(S_e * matrix[1, 1])\n",
    "m_b2 = np.sqrt(S_e * matrix[2, 2])\n",
    "m_b3 = np.sqrt(S_e * matrix[3, 3])\n",
    "t_b0 = abs(B[0] / m_b0)\n",
    "t_b1 = abs(B[1] / m_b1)\n",
    "t_b2 = abs(B[2] / m_b2)\n",
    "t_b3 = abs(B[3] / m_b3)\n",
    "alpha = 0.05\n",
    "t_ = t.isf(alpha, n - p - 1)\n",
    "if t_b0 >= t_:\n",
    "    print('Коэффицент b0 значим')\n",
    "if t_b1 >= t_:\n",
    "    print('Коэффицент b1 значим')\n",
    "if t_b2 >= t_:\n",
    "    print('Коэффицент b2 значим')\n",
    "if t_b3 >= t_:\n",
    "    print('Коэффицент b3 значим')"
   ]
  },
  {
   "cell_type": "code",
   "execution_count": 39,
   "id": "c8ae2b2e",
   "metadata": {},
   "outputs": [
    {
     "data": {
      "text/plain": [
       "(array([[7.96530058]]),\n",
       " array([[8.48968563]]),\n",
       " array([[14.19589483]]),\n",
       " array([[0.3103153]]))"
      ]
     },
     "execution_count": 39,
     "metadata": {},
     "output_type": "execute_result"
    }
   ],
   "source": [
    "t_b0, t_b1, t_b2, t_b3"
   ]
  },
  {
   "cell_type": "code",
   "execution_count": 40,
   "id": "513cb9a6",
   "metadata": {},
   "outputs": [
    {
     "data": {
      "text/plain": [
       "1.7247182429207863"
      ]
     },
     "execution_count": 40,
     "metadata": {},
     "output_type": "execute_result"
    }
   ],
   "source": [
    "t_"
   ]
  },
  {
   "cell_type": "markdown",
   "id": "b7ec9c23",
   "metadata": {},
   "source": [
    "## Прогнозирование на основе полученной модели"
   ]
  },
  {
   "cell_type": "markdown",
   "id": "a3cf3454",
   "metadata": {},
   "source": [
    "Для проверки модели спрогнозируем темп инфляции в январе 2022 года.\\\n",
    "Для этого соберем информацию о значениях ключевой ставки, денежной базы и номинального курса доллара за этот период:"
   ]
  },
  {
   "cell_type": "code",
   "execution_count": 41,
   "id": "36c02032",
   "metadata": {},
   "outputs": [],
   "source": [
    "inf = 8.73\n",
    "perc = 8.5\n",
    "m_s = 14553.8\n",
    "ec = 75.8682"
   ]
  },
  {
   "cell_type": "code",
   "execution_count": 42,
   "id": "c95c39ed",
   "metadata": {},
   "outputs": [
    {
     "data": {
      "text/html": [
       "<div>\n",
       "<style scoped>\n",
       "    .dataframe tbody tr th:only-of-type {\n",
       "        vertical-align: middle;\n",
       "    }\n",
       "\n",
       "    .dataframe tbody tr th {\n",
       "        vertical-align: top;\n",
       "    }\n",
       "\n",
       "    .dataframe thead th {\n",
       "        text-align: right;\n",
       "    }\n",
       "</style>\n",
       "<table border=\"1\" class=\"dataframe\">\n",
       "  <thead>\n",
       "    <tr style=\"text-align: right;\">\n",
       "      <th></th>\n",
       "      <th>Инфляция</th>\n",
       "      <th>Ключевая ставка, % годовых</th>\n",
       "      <th>Денежная база</th>\n",
       "      <th>Доллар США по отношению к рублю</th>\n",
       "    </tr>\n",
       "  </thead>\n",
       "  <tbody>\n",
       "    <tr>\n",
       "      <th>0</th>\n",
       "      <td>8.73</td>\n",
       "      <td>8.5</td>\n",
       "      <td>14553.8</td>\n",
       "      <td>75.8682</td>\n",
       "    </tr>\n",
       "  </tbody>\n",
       "</table>\n",
       "</div>"
      ],
      "text/plain": [
       "   Инфляция  Ключевая ставка, % годовых  Денежная база  \\\n",
       "0      8.73                         8.5        14553.8   \n",
       "\n",
       "   Доллар США по отношению к рублю  \n",
       "0                          75.8682  "
      ]
     },
     "execution_count": 42,
     "metadata": {},
     "output_type": "execute_result"
    }
   ],
   "source": [
    "pd.DataFrame({'Инфляция': inf, 'Ключевая ставка, % годовых': perc, \n",
    "             'Денежная база': m_s, \n",
    "             'Доллар США по отношению к рублю': ec}, index=[0])"
   ]
  },
  {
   "cell_type": "markdown",
   "id": "87c8cbf4",
   "metadata": {},
   "source": [
    "Подставим эти данные в нашу модель:"
   ]
  },
  {
   "cell_type": "code",
   "execution_count": 43,
   "id": "ac16978e",
   "metadata": {},
   "outputs": [
    {
     "data": {
      "text/plain": [
       "8.977493123539963"
      ]
     },
     "execution_count": 43,
     "metadata": {},
     "output_type": "execute_result"
    }
   ],
   "source": [
    "X_p = np.array([1, perc, m_s, ec])\n",
    "y_hat = (X_p * B).sum()\n",
    "y_hat"
   ]
  },
  {
   "cell_type": "markdown",
   "id": "1ead84c1",
   "metadata": {},
   "source": [
    "Рассчитаем 95%-ный доверительный интервал прогноза регрессии:"
   ]
  },
  {
   "cell_type": "code",
   "execution_count": 44,
   "id": "b795d8b3",
   "metadata": {},
   "outputs": [
    {
     "data": {
      "text/plain": [
       "[array([[8.1275585]]), array([[9.82742775]])]"
      ]
     },
     "execution_count": 44,
     "metadata": {},
     "output_type": "execute_result"
    }
   ],
   "source": [
    "S_y_p = S_e**0.5 * np.sqrt(1 + np.dot(np.dot(X_p.T, np.linalg.inv(np.dot(X_.values.T, X_.values))), X_p))\n",
    "[y_hat - S_y_p*t_, y_hat + S_y_p*t_]"
   ]
  },
  {
   "cell_type": "code",
   "execution_count": 51,
   "id": "fbac1bb5",
   "metadata": {},
   "outputs": [
    {
     "data": {
      "text/plain": [
       "array([2.66114251, 1.95921394, 2.15067927, 2.80265009, 3.62828422,\n",
       "       3.37107828, 3.75876654, 4.01733208, 4.18263067, 4.31081422,\n",
       "       4.45471856, 4.45953698, 5.16661879, 4.83690484, 5.19240556,\n",
       "       5.51411077, 6.0960488 , 6.19713481, 6.88685224, 7.16490899,\n",
       "       7.38116553, 8.03503081, 7.97728085, 8.49469067])"
      ]
     },
     "execution_count": 51,
     "metadata": {},
     "output_type": "execute_result"
    }
   ],
   "source": [
    "reg.predict(X_).values"
   ]
  },
  {
   "cell_type": "code",
   "execution_count": 53,
   "id": "5aa1ccb1",
   "metadata": {},
   "outputs": [
    {
     "data": {
      "text/plain": [
       "array([2.4 , 2.3 , 2.5 , 3.1 , 3.  , 3.2 , 3.4 , 3.6 , 3.7 , 4.  , 4.4 ,\n",
       "       4.9 , 5.2 , 5.7 , 5.8 , 5.5 , 6.  , 6.5 , 6.5 , 6.68, 7.4 , 8.13,\n",
       "       8.4 , 8.39])"
      ]
     },
     "execution_count": 53,
     "metadata": {},
     "output_type": "execute_result"
    }
   ],
   "source": [
    "data['Инфляция, % г/г'].values"
   ]
  },
  {
   "cell_type": "code",
   "execution_count": 55,
   "id": "fa8c5f02",
   "metadata": {},
   "outputs": [],
   "source": [
    "pd.DataFrame({'Фактические значения': data['Инфляция, % г/г'].values, 'Предсказанные значения': reg.predict(X_).values}).to_excel(\"predict.xlsx\")"
   ]
  },
  {
   "cell_type": "code",
   "execution_count": 26,
   "id": "995c7211",
   "metadata": {},
   "outputs": [
    {
     "data": {
      "image/png": "[encoded data removed]",
      "text/plain": [
       "<Figure size 1800x800 with 1 Axes>"
      ]
     },
     "metadata": {},
     "output_type": "display_data"
    }
   ],
   "source": [
    "plt.figure(figsize=(18, 8))\n",
    "plt.title('Распределение значений инфляции по годам')\n",
    "plt.plot(data['Инфляция, % г/г'], label='Фактические значения')\n",
    "plt.plot(reg.predict(X_), label='Предсказанные значения')\n",
    "for m in range(0, 25):\n",
    "    plt.axvline(x=m, linestyle='dotted')\n",
    "plt.scatter(24, y_hat, color='orange')\n",
    "plt.scatter(24, inf, color='blue')\n",
    "plt.legend()\n",
    "plt.xlabel('Года')\n",
    "plt.ylabel('Значение')\n",
    "plt.xticks(range(0, 25, 12), [2020, 2021, 2022])\n",
    "plt.grid(linestyle='--')\n",
    "plt.show()"
   ]
  },
  {
   "cell_type": "code",
   "execution_count": 28,
   "id": "8cf6ab69",
   "metadata": {},
   "outputs": [
    {
     "name": "stdout",
     "output_type": "stream",
     "text": [
      "-16.117260406018282\n",
      "0.6626650447765302\n",
      "0.0013898856077517946\n",
      "-0.010096674352895296\n"
     ]
    }
   ],
   "source": [
    "for i in B:\n",
    "    print(i)"
   ]
  },
  {
   "cell_type": "code",
   "execution_count": 30,
   "id": "8426fb1b",
   "metadata": {},
   "outputs": [
    {
     "data": {
      "text/html": [
       "<div>\n",
       "<style scoped>\n",
       "    .dataframe tbody tr th:only-of-type {\n",
       "        vertical-align: middle;\n",
       "    }\n",
       "\n",
       "    .dataframe tbody tr th {\n",
       "        vertical-align: top;\n",
       "    }\n",
       "\n",
       "    .dataframe thead th {\n",
       "        text-align: right;\n",
       "    }\n",
       "</style>\n",
       "<table border=\"1\" class=\"dataframe\">\n",
       "  <thead>\n",
       "    <tr style=\"text-align: right;\">\n",
       "      <th></th>\n",
       "      <th>Дата</th>\n",
       "      <th>Ключевая ставка, % годовых</th>\n",
       "      <th>Инфляция, % г/г</th>\n",
       "      <th>Денежная база</th>\n",
       "      <th>Доллар США по отношению к рублю</th>\n",
       "    </tr>\n",
       "  </thead>\n",
       "  <tbody>\n",
       "    <tr>\n",
       "      <th>0</th>\n",
       "      <td>1.2020</td>\n",
       "      <td>6.25</td>\n",
       "      <td>2.40</td>\n",
       "      <td>10979.7</td>\n",
       "      <td>61.7808</td>\n",
       "    </tr>\n",
       "    <tr>\n",
       "      <th>1</th>\n",
       "      <td>2.2020</td>\n",
       "      <td>6.00</td>\n",
       "      <td>2.30</td>\n",
       "      <td>10609.1</td>\n",
       "      <td>63.8776</td>\n",
       "    </tr>\n",
       "    <tr>\n",
       "      <th>2</th>\n",
       "      <td>3.2020</td>\n",
       "      <td>6.00</td>\n",
       "      <td>2.50</td>\n",
       "      <td>10814.2</td>\n",
       "      <td>73.1480</td>\n",
       "    </tr>\n",
       "    <tr>\n",
       "      <th>3</th>\n",
       "      <td>4.2020</td>\n",
       "      <td>5.50</td>\n",
       "      <td>3.10</td>\n",
       "      <td>11536.7</td>\n",
       "      <td>75.2169</td>\n",
       "    </tr>\n",
       "    <tr>\n",
       "      <th>4</th>\n",
       "      <td>5.2020</td>\n",
       "      <td>5.50</td>\n",
       "      <td>3.00</td>\n",
       "      <td>12111.8</td>\n",
       "      <td>72.6110</td>\n",
       "    </tr>\n",
       "    <tr>\n",
       "      <th>5</th>\n",
       "      <td>6.2020</td>\n",
       "      <td>4.50</td>\n",
       "      <td>3.20</td>\n",
       "      <td>12378.9</td>\n",
       "      <td>69.2217</td>\n",
       "    </tr>\n",
       "    <tr>\n",
       "      <th>6</th>\n",
       "      <td>7.2020</td>\n",
       "      <td>4.25</td>\n",
       "      <td>3.40</td>\n",
       "      <td>12792.0</td>\n",
       "      <td>71.2825</td>\n",
       "    </tr>\n",
       "    <tr>\n",
       "      <th>7</th>\n",
       "      <td>8.2020</td>\n",
       "      <td>4.25</td>\n",
       "      <td>3.60</td>\n",
       "      <td>12996.3</td>\n",
       "      <td>73.7970</td>\n",
       "    </tr>\n",
       "    <tr>\n",
       "      <th>8</th>\n",
       "      <td>9.2020</td>\n",
       "      <td>4.25</td>\n",
       "      <td>3.70</td>\n",
       "      <td>13128.7</td>\n",
       "      <td>75.6513</td>\n",
       "    </tr>\n",
       "    <tr>\n",
       "      <th>9</th>\n",
       "      <td>10.2020</td>\n",
       "      <td>4.25</td>\n",
       "      <td>4.00</td>\n",
       "      <td>13235.0</td>\n",
       "      <td>77.5887</td>\n",
       "    </tr>\n",
       "    <tr>\n",
       "      <th>10</th>\n",
       "      <td>11.2020</td>\n",
       "      <td>4.25</td>\n",
       "      <td>4.40</td>\n",
       "      <td>13334.5</td>\n",
       "      <td>77.0330</td>\n",
       "    </tr>\n",
       "    <tr>\n",
       "      <th>11</th>\n",
       "      <td>12.2020</td>\n",
       "      <td>4.25</td>\n",
       "      <td>4.90</td>\n",
       "      <td>13316.3</td>\n",
       "      <td>74.0504</td>\n",
       "    </tr>\n",
       "    <tr>\n",
       "      <th>12</th>\n",
       "      <td>1.2021</td>\n",
       "      <td>4.25</td>\n",
       "      <td>5.20</td>\n",
       "      <td>13826.3</td>\n",
       "      <td>74.2247</td>\n",
       "    </tr>\n",
       "    <tr>\n",
       "      <th>13</th>\n",
       "      <td>2.2021</td>\n",
       "      <td>4.25</td>\n",
       "      <td>5.70</td>\n",
       "      <td>13590.2</td>\n",
       "      <td>74.3794</td>\n",
       "    </tr>\n",
       "    <tr>\n",
       "      <th>14</th>\n",
       "      <td>3.2021</td>\n",
       "      <td>4.50</td>\n",
       "      <td>5.80</td>\n",
       "      <td>13727.0</td>\n",
       "      <td>74.4093</td>\n",
       "    </tr>\n",
       "    <tr>\n",
       "      <th>15</th>\n",
       "      <td>4.2021</td>\n",
       "      <td>5.00</td>\n",
       "      <td>5.50</td>\n",
       "      <td>13732.3</td>\n",
       "      <td>76.0924</td>\n",
       "    </tr>\n",
       "    <tr>\n",
       "      <th>16</th>\n",
       "      <td>5.2021</td>\n",
       "      <td>5.00</td>\n",
       "      <td>6.00</td>\n",
       "      <td>14136.1</td>\n",
       "      <td>74.0420</td>\n",
       "    </tr>\n",
       "    <tr>\n",
       "      <th>17</th>\n",
       "      <td>6.2021</td>\n",
       "      <td>5.50</td>\n",
       "      <td>6.50</td>\n",
       "      <td>13959.3</td>\n",
       "      <td>72.5083</td>\n",
       "    </tr>\n",
       "    <tr>\n",
       "      <th>18</th>\n",
       "      <td>7.2021</td>\n",
       "      <td>6.50</td>\n",
       "      <td>6.50</td>\n",
       "      <td>13989.0</td>\n",
       "      <td>73.9174</td>\n",
       "    </tr>\n",
       "    <tr>\n",
       "      <th>19</th>\n",
       "      <td>8.2021</td>\n",
       "      <td>6.50</td>\n",
       "      <td>6.68</td>\n",
       "      <td>14186.7</td>\n",
       "      <td>73.5929</td>\n",
       "    </tr>\n",
       "    <tr>\n",
       "      <th>20</th>\n",
       "      <td>9.2021</td>\n",
       "      <td>6.75</td>\n",
       "      <td>7.40</td>\n",
       "      <td>14218.0</td>\n",
       "      <td>72.8910</td>\n",
       "    </tr>\n",
       "    <tr>\n",
       "      <th>21</th>\n",
       "      <td>10.2021</td>\n",
       "      <td>7.50</td>\n",
       "      <td>8.13</td>\n",
       "      <td>14320.7</td>\n",
       "      <td>71.4920</td>\n",
       "    </tr>\n",
       "    <tr>\n",
       "      <th>22</th>\n",
       "      <td>11.2021</td>\n",
       "      <td>7.50</td>\n",
       "      <td>8.40</td>\n",
       "      <td>14287.1</td>\n",
       "      <td>72.5864</td>\n",
       "    </tr>\n",
       "    <tr>\n",
       "      <th>23</th>\n",
       "      <td>12.2021</td>\n",
       "      <td>8.50</td>\n",
       "      <td>8.39</td>\n",
       "      <td>14190.8</td>\n",
       "      <td>73.7164</td>\n",
       "    </tr>\n",
       "  </tbody>\n",
       "</table>\n",
       "</div>"
      ],
      "text/plain": [
       "       Дата  Ключевая ставка, % годовых  Инфляция, % г/г  Денежная база  \\\n",
       "0    1.2020                        6.25             2.40        10979.7   \n",
       "1    2.2020                        6.00             2.30        10609.1   \n",
       "2    3.2020                        6.00             2.50        10814.2   \n",
       "3    4.2020                        5.50             3.10        11536.7   \n",
       "4    5.2020                        5.50             3.00        12111.8   \n",
       "5    6.2020                        4.50             3.20        12378.9   \n",
       "6    7.2020                        4.25             3.40        12792.0   \n",
       "7    8.2020                        4.25             3.60        12996.3   \n",
       "8    9.2020                        4.25             3.70        13128.7   \n",
       "9   10.2020                        4.25             4.00        13235.0   \n",
       "10  11.2020                        4.25             4.40        13334.5   \n",
       "11  12.2020                        4.25             4.90        13316.3   \n",
       "12   1.2021                        4.25             5.20        13826.3   \n",
       "13   2.2021                        4.25             5.70        13590.2   \n",
       "14   3.2021                        4.50             5.80        13727.0   \n",
       "15   4.2021                        5.00             5.50        13732.3   \n",
       "16   5.2021                        5.00             6.00        14136.1   \n",
       "17   6.2021                        5.50             6.50        13959.3   \n",
       "18   7.2021                        6.50             6.50        13989.0   \n",
       "19   8.2021                        6.50             6.68        14186.7   \n",
       "20   9.2021                        6.75             7.40        14218.0   \n",
       "21  10.2021                        7.50             8.13        14320.7   \n",
       "22  11.2021                        7.50             8.40        14287.1   \n",
       "23  12.2021                        8.50             8.39        14190.8   \n",
       "\n",
       "    Доллар США по отношению к рублю  \n",
       "0                           61.7808  \n",
       "1                           63.8776  \n",
       "2                           73.1480  \n",
       "3                           75.2169  \n",
       "4                           72.6110  \n",
       "5                           69.2217  \n",
       "6                           71.2825  \n",
       "7                           73.7970  \n",
       "8                           75.6513  \n",
       "9                           77.5887  \n",
       "10                          77.0330  \n",
       "11                          74.0504  \n",
       "12                          74.2247  \n",
       "13                          74.3794  \n",
       "14                          74.4093  \n",
       "15                          76.0924  \n",
       "16                          74.0420  \n",
       "17                          72.5083  \n",
       "18                          73.9174  \n",
       "19                          73.5929  \n",
       "20                          72.8910  \n",
       "21                          71.4920  \n",
       "22                          72.5864  \n",
       "23                          73.7164  "
      ]
     },
     "execution_count": 30,
     "metadata": {},
     "output_type": "execute_result"
    }
   ],
   "source": [
    "data"
   ]
  },
  {
   "cell_type": "code",
   "execution_count": null,
   "id": "fda3ce49",
   "metadata": {},
   "outputs": [],
   "source": []
  }
 ],
 "metadata": {
  "kernelspec": {
   "display_name": "Python 3 (ipykernel)",
   "language": "python",
   "name": "python3"
  },
  "language_info": {
   "codemirror_mode": {
    "name": "ipython",
    "version": 3
   },
   "file_extension": ".py",
   "mimetype": "text/x-python",
   "name": "python",
   "nbconvert_exporter": "python",
   "pygments_lexer": "ipython3",
   "version": "3.10.9"
  }
 },
 "nbformat": 4,
 "nbformat_minor": 5
}
